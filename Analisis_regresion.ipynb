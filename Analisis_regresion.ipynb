{
  "nbformat": 4,
  "nbformat_minor": 0,
  "metadata": {
    "colab": {
      "provenance": [],
      "mount_file_id": "1Np5zxPL34-oIdXQzGcSCJc0D8v9l3cIR",
      "authorship_tag": "ABX9TyPWcejBdX6tPxaLLtLh+EUw",
      "include_colab_link": true
    },
    "kernelspec": {
      "name": "python3",
      "display_name": "Python 3"
    },
    "language_info": {
      "name": "python"
    }
  },
  "cells": [
    {
      "cell_type": "markdown",
      "metadata": {
        "id": "view-in-github",
        "colab_type": "text"
      },
      "source": [
        "<a href=\"https://colab.research.google.com/github/Pemoreira74/Trabajo-EPH/blob/main/Analisis_regresion.ipynb\" target=\"_parent\"><img src=\"https://colab.research.google.com/assets/colab-badge.svg\" alt=\"Open In Colab\"/></a>"
      ]
    },
    {
      "cell_type": "code",
      "execution_count": null,
      "metadata": {
        "colab": {
          "base_uri": "https://localhost:8080/"
        },
        "id": "OtaArqeMOnoA",
        "outputId": "ae83e45e-76f2-4734-99ba-76a02c2fdf44"
      },
      "outputs": [
        {
          "output_type": "stream",
          "name": "stdout",
          "text": [
            "         ANO4  TRIMESTRE      region  AGLOMERADO  sexo  edad  analfabetismo  \\\n",
            "3984640  2022          4  Patagónica          93     2    83              1   \n",
            "3984641  2022          4  Patagónica          93     2    83              1   \n",
            "3984642  2022          4  Patagónica          93     2    84              2   \n",
            "3984643  2022          4  Patagónica          93     2    86              1   \n",
            "3984644  2022          4  Patagónica          93     2    92              1   \n",
            "\n",
            "         nivel_educativo  tipo_vivienda  zona_inundable  villa_emergencia  \\\n",
            "3984640                6              1               2                 2   \n",
            "3984641                6              1               2                 2   \n",
            "3984642                7              1               2                 2   \n",
            "3984643                2              1               2                 2   \n",
            "3984644                2              1               2                 2   \n",
            "\n",
            "         cant_miembros_hogar  promedio_ifpc  ESTADO  \n",
            "3984640                    1       164000.0       3  \n",
            "3984641                    2        59500.0       3  \n",
            "3984642                    2        83000.0       3  \n",
            "3984643                    2        75000.0       3  \n",
            "3984644                    2        60000.0       3  \n"
          ]
        }
      ],
      "source": [
        "import pandas as pd\n",
        "import numpy as np\n",
        "import statsmodels.api as sm\n",
        "from sklearn.preprocessing import StandardScaler\n",
        "from sklearn.model_selection import train_test_split\n",
        "from sklearn.linear_model import LogisticRegression\n",
        "from sklearn.metrics import classification_report, confusion_matrix\n",
        "\n",
        "# Especifica la ruta del archivo CSV\n",
        "ruta_archivo_csv = '/content/drive/MyDrive/EPH/IFP_regresion.csv'\n",
        "\n",
        "# Crea un DataFrame desde el archivo CSV\n",
        "df_reg = pd.read_csv(ruta_archivo_csv)\n",
        "\n",
        "# Muestra las ultimas filas del DataFrame para verificar\n",
        "print(df_reg.tail(5))\n"
      ]
    },
    {
      "cell_type": "code",
      "source": [
        "# Eliminar valores atípicos en la variable 'Promedio_IFPC'\n",
        "Q1 = df_reg['promedio_ifpc'].quantile(0.25)\n",
        "Q3 = df_reg['promedio_ifpc'].quantile(0.75)\n",
        "IQR = Q3 - Q1\n",
        "df_sin_atipicos = df_reg[(df_reg['promedio_ifpc'] >= Q1 - 1.5 * IQR) & (df_reg['promedio_ifpc'] <= Q3 + 1.5 * IQR)]\n",
        "\n",
        "# Calcular el valor medio de Promedio_IFPC\n",
        "valor_medio_promedio_ifpc = df_sin_atipicos['promedio_ifpc'].mean()\n",
        "\n",
        "# Agregar una nueva columna al DataFrame con el valor medio\n",
        "df_sin_atipicos['Valor_Medio_Promedio_IFPC'] = valor_medio_promedio_ifpc\n",
        "\n",
        "# Visualizar el DataFrame actualizado\n",
        "print(df_sin_atipicos)\n"
      ],
      "metadata": {
        "colab": {
          "base_uri": "https://localhost:8080/"
        },
        "id": "lwqQpjp2VZc9",
        "outputId": "dedd11d1-f00e-464d-d4f8-2ee12f302b04"
      },
      "execution_count": null,
      "outputs": [
        {
          "output_type": "stream",
          "name": "stdout",
          "text": [
            "         ANO4  TRIMESTRE      region  AGLOMERADO  sexo  edad  analfabetismo  \\\n",
            "0        2003          3        Cuyo          10     1    -1              3   \n",
            "1        2003          3        Cuyo          10     1    -1              3   \n",
            "2        2003          3        Cuyo          10     1    -1              3   \n",
            "3        2003          3        Cuyo          10     1    -1              3   \n",
            "4        2003          3        Cuyo          10     1    -1              3   \n",
            "...       ...        ...         ...         ...   ...   ...            ...   \n",
            "3984412  2022          4  Patagónica          93     2    37              1   \n",
            "3984450  2022          4  Patagónica          93     2    46              1   \n",
            "3984495  2022          4  Patagónica          93     2    53              1   \n",
            "3984496  2022          4  Patagónica          93     2    53              1   \n",
            "3984497  2022          4  Patagónica          93     2    53              1   \n",
            "\n",
            "         nivel_educativo  tipo_vivienda  zona_inundable  villa_emergencia  \\\n",
            "0                      7              1               2                 2   \n",
            "1                      7              1               2                 2   \n",
            "2                      7              1               2                 2   \n",
            "3                      7              1               2                 2   \n",
            "4                      7              1               2                 2   \n",
            "...                  ...            ...             ...               ...   \n",
            "3984412                6              1               2                 2   \n",
            "3984450                2              1               2                 2   \n",
            "3984495                1              1               2                 2   \n",
            "3984496                1              1               2                 2   \n",
            "3984497                1              1               2                 2   \n",
            "\n",
            "         cant_miembros_hogar  promedio_ifpc  ESTADO  Valor_Medio_Promedio_IFPC  \n",
            "0                          2          46.25       4                2190.772089  \n",
            "1                          3          50.00       4                2190.772089  \n",
            "2                          4         237.66       4                2190.772089  \n",
            "3                          5         156.10       4                2190.772089  \n",
            "4                          7          60.71       4                2190.772089  \n",
            "...                      ...            ...     ...                        ...  \n",
            "3984412                    3       11566.67       3                2190.772089  \n",
            "3984450                    3       10600.00       1                2190.772089  \n",
            "3984495                    6        9562.50       1                2190.772089  \n",
            "3984496                    7        9562.50       1                2190.772089  \n",
            "3984497                    8        9562.50       1                2190.772089  \n",
            "\n",
            "[3470389 rows x 15 columns]\n"
          ]
        },
        {
          "output_type": "stream",
          "name": "stderr",
          "text": [
            "<ipython-input-34-4d414af603ee>:11: SettingWithCopyWarning: \n",
            "A value is trying to be set on a copy of a slice from a DataFrame.\n",
            "Try using .loc[row_indexer,col_indexer] = value instead\n",
            "\n",
            "See the caveats in the documentation: https://pandas.pydata.org/pandas-docs/stable/user_guide/indexing.html#returning-a-view-versus-a-copy\n",
            "  df_sin_atipicos['Valor_Medio_Promedio_IFPC'] = valor_medio_promedio_ifpc\n"
          ]
        }
      ]
    },
    {
      "cell_type": "code",
      "source": [
        "df_sin_atipicos.to_csv(\"/content/drive/MyDrive/EPH/df_sin_atipicos.csv\", index=False)"
      ],
      "metadata": {
        "id": "FPMAAQISja3j"
      },
      "execution_count": null,
      "outputs": []
    },
    {
      "cell_type": "code",
      "source": [
        "# Crear la variable de respuesta (1 si está por encima, 0 si está por debajo del valor medio)\n",
        "df_sin_atipicos['Target'] = np.where(df_sin_atipicos['promedio_ifpc'] > df_sin_atipicos['Valor_Medio_Promedio_IFPC'], 1, 0)\n",
        "\n",
        "# Variables predictoras (X) y variable objetivo (y)\n",
        "X = df_sin_atipicos[['sexo', 'AGLOMERADO','edad', 'analfabetismo', 'nivel_educativo', 'tipo_vivienda', 'zona_inundable', 'villa_emergencia', 'cant_miembros_hogar']]\n",
        "y = df_sin_atipicos['Target']\n",
        "\n",
        "# Escalar las variables predictoras\n",
        "scaler = StandardScaler()\n",
        "X_scaled = scaler.fit_transform(X)\n",
        "\n",
        "# Dividir los datos en conjunto de entrenamiento y conjunto de prueba\n",
        "X_train, X_test, y_train, y_test = train_test_split(X_scaled, y, test_size=0.2, random_state=42)\n",
        "\n",
        "# Ajustar el modelo de regresión logística\n",
        "modelo_logistico = LogisticRegression()\n",
        "modelo_logistico.fit(X_train, y_train)\n",
        "\n",
        "# Hacer predicciones en el conjunto de prueba\n",
        "y_pred = modelo_logistico.predict(X_test)\n",
        "\n",
        "# Evaluar el modelo\n",
        "print(confusion_matrix(y_test, y_pred))\n",
        "print(classification_report(y_test, y_pred))\n"
      ],
      "metadata": {
        "colab": {
          "base_uri": "https://localhost:8080/"
        },
        "id": "2OjJ_TIQYkrA",
        "outputId": "852592ce-fff3-4378-c5a5-44eeca4c7764"
      },
      "execution_count": null,
      "outputs": [
        {
          "output_type": "stream",
          "name": "stderr",
          "text": [
            "<ipython-input-44-2c7c924fe7f6>:2: SettingWithCopyWarning: \n",
            "A value is trying to be set on a copy of a slice from a DataFrame.\n",
            "Try using .loc[row_indexer,col_indexer] = value instead\n",
            "\n",
            "See the caveats in the documentation: https://pandas.pydata.org/pandas-docs/stable/user_guide/indexing.html#returning-a-view-versus-a-copy\n",
            "  df_sin_atipicos['Target'] = np.where(df_sin_atipicos['promedio_ifpc'] > df_sin_atipicos['Valor_Medio_Promedio_IFPC'], 1, 0)\n"
          ]
        },
        {
          "output_type": "stream",
          "name": "stdout",
          "text": [
            "[[467828   6366]\n",
            " [211200   8684]]\n",
            "              precision    recall  f1-score   support\n",
            "\n",
            "           0       0.69      0.99      0.81    474194\n",
            "           1       0.58      0.04      0.07    219884\n",
            "\n",
            "    accuracy                           0.69    694078\n",
            "   macro avg       0.63      0.51      0.44    694078\n",
            "weighted avg       0.65      0.69      0.58    694078\n",
            "\n"
          ]
        }
      ]
    },
    {
      "cell_type": "code",
      "source": [
        "\n",
        "# Crear la variable de respuesta (1 si está por encima, 0 si está por debajo del valor medio)\n",
        "df_sin_atipicos['Target'] = np.where(df_sin_atipicos['promedio_ifpc'] > df_sin_atipicos['Valor_Medio_Promedio_IFPC'], 1, 0)\n",
        "\n",
        "\n",
        "# Variables predictoras (X) y variable objetivo (y)\n",
        "X = df_sin_atipicos[['sexo', 'edad', 'analfabetismo', 'nivel_educativo', 'tipo_vivienda', 'zona_inundable', 'villa_emergencia', 'cant_miembros_hogar', 'promedio_ifpc']]\n",
        "y = df_sin_atipicos['Target']\n",
        "\n",
        "# Escalar las variables predictoras\n",
        "scaler = StandardScaler()\n",
        "X_scaled = scaler.fit_transform(X)\n",
        "\n",
        "# Dividir los datos en conjunto de entrenamiento y conjunto de prueba\n",
        "X_train, X_test, y_train, y_test = train_test_split(X_scaled, y, test_size=0.2, random_state=42)\n",
        "\n",
        "# Ajustar el modelo de regresión logística\n",
        "modelo_logistico = LogisticRegression()\n",
        "modelo_logistico.fit(X_train, y_train)\n",
        "\n",
        "# Hacer predicciones en el conjunto de prueba\n",
        "y_pred = modelo_logistico.predict(X_test)\n",
        "\n",
        "# Convertir X_test a un DataFrame de Pandas\n",
        "df_resultados = pd.DataFrame(X_test, columns=X.columns)  # Asumiendo que X tiene nombres de columnas\n",
        "\n",
        "# Agregar las predicciones al DataFrame\n",
        "df_resultados['Predicciones'] = y_pred\n",
        "df_resultados['Target_Real'] = y_test\n",
        "\n",
        "# Mostrar datos por encima o por debajo del Target\n",
        "datos_por_encima = df_resultados[df_resultados['Predicciones'] == 1]\n",
        "datos_por_debajo = df_resultados[df_resultados['Predicciones'] == 0]\n",
        "\n",
        "print(\"Datos por encima del Target:\")\n",
        "print(datos_por_encima)\n",
        "\n",
        "print(\"\\nDatos por debajo del Target:\")\n",
        "print(datos_por_debajo)\n",
        "\n"
      ],
      "metadata": {
        "colab": {
          "base_uri": "https://localhost:8080/"
        },
        "id": "EKaO9IyFcLJz",
        "outputId": "731ac32a-a6df-465e-ec91-908df99cc66d"
      },
      "execution_count": null,
      "outputs": [
        {
          "output_type": "stream",
          "name": "stderr",
          "text": [
            "<ipython-input-46-d2f2ee1cb2df>:2: SettingWithCopyWarning: \n",
            "A value is trying to be set on a copy of a slice from a DataFrame.\n",
            "Try using .loc[row_indexer,col_indexer] = value instead\n",
            "\n",
            "See the caveats in the documentation: https://pandas.pydata.org/pandas-docs/stable/user_guide/indexing.html#returning-a-view-versus-a-copy\n",
            "  df_sin_atipicos['Target'] = np.where(df_sin_atipicos['promedio_ifpc'] > df_sin_atipicos['Valor_Medio_Promedio_IFPC'], 1, 0)\n"
          ]
        },
        {
          "output_type": "stream",
          "name": "stdout",
          "text": [
            "Datos por encima del Target:\n",
            "            sexo      edad  analfabetismo  nivel_educativo  tipo_vivienda  \\\n",
            "2      -1.056469 -0.387164      -0.293266        -0.266723      -0.416953   \n",
            "4      -1.056469 -1.187753      -0.293266        -1.355942       1.645377   \n",
            "5       0.946550 -0.340071      -0.293266         0.822496       1.645377   \n",
            "7      -1.056469  0.272144      -0.293266        -0.266723      -0.416953   \n",
            "10     -1.056469  0.319238      -0.293266         0.277887      -0.416953   \n",
            "...          ...       ...            ...              ...            ...   \n",
            "694072 -1.056469 -0.104603      -0.293266         0.822496       1.645377   \n",
            "694073 -1.056469  1.072733      -0.293266         0.277887       1.645377   \n",
            "694074  0.946550 -0.292977      -0.293266        -0.811332      -0.416953   \n",
            "694076  0.946550  1.590761      -0.293266         0.277887       1.645377   \n",
            "694077  0.946550  1.308200      -0.293266         0.277887      -0.416953   \n",
            "\n",
            "        zona_inundable  villa_emergencia  cant_miembros_hogar  promedio_ifpc  \\\n",
            "2             0.349334          0.143325             0.934115       0.093710   \n",
            "4             0.349334          0.143325            -1.023648       0.626719   \n",
            "5             0.349334          0.143325            -0.632096       0.043829   \n",
            "7             0.349334          0.143325            -1.023648       2.953240   \n",
            "10           -2.734897          0.143325            -0.240543       0.846816   \n",
            "...                ...               ...                  ...            ...   \n",
            "694072        0.349334          0.143325            -1.415201       0.846275   \n",
            "694073        0.349334          0.143325            -1.023648       2.272528   \n",
            "694074        0.349334          0.143325            -0.632096       0.432085   \n",
            "694076        0.349334          0.143325             0.151010       1.705268   \n",
            "694077        0.349334          0.143325             0.151010       1.692664   \n",
            "\n",
            "        Predicciones  Target_Real  \n",
            "2                  1          NaN  \n",
            "4                  1          NaN  \n",
            "5                  1          NaN  \n",
            "7                  1          NaN  \n",
            "10                 1          NaN  \n",
            "...              ...          ...  \n",
            "694072             1          NaN  \n",
            "694073             1          NaN  \n",
            "694074             1          NaN  \n",
            "694076             1          NaN  \n",
            "694077             1          NaN  \n",
            "\n",
            "[219989 rows x 11 columns]\n",
            "\n",
            "Datos por debajo del Target:\n",
            "            sexo      edad  analfabetismo  nivel_educativo  tipo_vivienda  \\\n",
            "0      -1.056469 -1.470314       2.240700         1.911715      -0.416953   \n",
            "1      -1.056469  0.601798      -0.293266         0.277887      -0.416953   \n",
            "3       0.946550  0.460518      -0.293266         0.277887      -0.416953   \n",
            "6       0.946550  0.837266      -0.293266        -0.811332      -0.416953   \n",
            "8      -1.056469 -0.622631      -0.293266        -0.266723      -0.416953   \n",
            "...          ...       ...            ...              ...            ...   \n",
            "694065 -1.056469 -0.292977      -0.293266         0.822496      -0.416953   \n",
            "694066  0.946550  0.272144      -0.293266        -0.266723      -0.416953   \n",
            "694067 -1.056469  0.366331      -0.293266        -0.266723      -0.416953   \n",
            "694070  0.946550  0.601798      -0.293266        -1.355942      -0.416953   \n",
            "694075 -1.056469 -0.999379      -0.293266        -0.266723      -0.416953   \n",
            "\n",
            "        zona_inundable  villa_emergencia  cant_miembros_hogar  promedio_ifpc  \\\n",
            "0             0.349334          0.143325             0.151010      -0.705207   \n",
            "1             0.349334          0.143325            -0.632096      -0.446600   \n",
            "3             0.349334          0.143325            -1.023648      -0.336866   \n",
            "6             0.349334          0.143325             1.717220      -0.757584   \n",
            "8             0.349334          0.143325             0.151010      -0.331825   \n",
            "...                ...               ...                  ...            ...   \n",
            "694065        0.349334          0.143325            -0.632096      -0.248627   \n",
            "694066        0.349334          0.143325             0.934115      -0.385488   \n",
            "694067        0.349334          0.143325             0.934115      -0.434109   \n",
            "694070        0.349334          0.143325             0.151010      -0.777169   \n",
            "694075        0.349334          0.143325             1.717220      -0.282243   \n",
            "\n",
            "        Predicciones  Target_Real  \n",
            "0                  0          NaN  \n",
            "1                  0          0.0  \n",
            "3                  0          NaN  \n",
            "6                  0          NaN  \n",
            "8                  0          NaN  \n",
            "...              ...          ...  \n",
            "694065             0          NaN  \n",
            "694066             0          NaN  \n",
            "694067             0          NaN  \n",
            "694070             0          NaN  \n",
            "694075             0          NaN  \n",
            "\n",
            "[474089 rows x 11 columns]\n"
          ]
        }
      ]
    },
    {
      "cell_type": "code",
      "source": [
        "\n",
        "# Crear la variable de respuesta (1 si está por encima, 0 si está por debajo del valor medio)\n",
        "df_sin_atipicos['Target'] = np.where(df_sin_atipicos['promedio_ifpc'] > df_sin_atipicos['Valor_Medio_Promedio_IFPC'], 1, 0)\n",
        "\n",
        "# Variables predictoras (X) y variable objetivo (y)\n",
        "X = df_sin_atipicos[['sexo', 'edad', 'AGLOMERADO', 'analfabetismo', 'nivel_educativo', 'tipo_vivienda', 'zona_inundable', 'villa_emergencia', 'cant_miembros_hogar']]\n",
        "y = df_sin_atipicos['Target']\n",
        "\n",
        "# Escalar las variables predictoras\n",
        "scaler = StandardScaler()\n",
        "X_scaled = scaler.fit_transform(X)\n",
        "\n",
        "# Dividir los datos en conjunto de entrenamiento y conjunto de prueba\n",
        "X_train, X_test, y_train, y_test = train_test_split(X_scaled, y, test_size=0.2, random_state=42)\n",
        "\n",
        "# Ajustar el modelo de regresión logística\n",
        "modelo_logistico = LogisticRegression()\n",
        "modelo_logistico.fit(X_train, y_train)\n",
        "\n",
        "# Obtener los coeficientes del modelo\n",
        "coeficientes = modelo_logistico.coef_[0]\n",
        "\n",
        "# Obtener los nombres de las variables predictoras\n",
        "nombres_predictores = X.columns\n",
        "\n",
        "# Crear un DataFrame con los coeficientes y nombres de variables\n",
        "df_coeficientes = pd.DataFrame({'Variable': nombres_predictores, 'Coeficiente': coeficientes})\n",
        "\n",
        "# Mostrar los coeficientes ordenados por magnitud\n",
        "df_coeficientes = df_coeficientes.reindex(df_coeficientes['Coeficiente'].abs().sort_values(ascending=False).index)\n",
        "print(df_coeficientes)\n"
      ],
      "metadata": {
        "colab": {
          "base_uri": "https://localhost:8080/"
        },
        "id": "PdvpXHfKEcOa",
        "outputId": "cd997354-14b5-4684-e3a0-0d87fd32790e"
      },
      "execution_count": null,
      "outputs": [
        {
          "output_type": "stream",
          "name": "stderr",
          "text": [
            "<ipython-input-48-d89c4832e406>:2: SettingWithCopyWarning: \n",
            "A value is trying to be set on a copy of a slice from a DataFrame.\n",
            "Try using .loc[row_indexer,col_indexer] = value instead\n",
            "\n",
            "See the caveats in the documentation: https://pandas.pydata.org/pandas-docs/stable/user_guide/indexing.html#returning-a-view-versus-a-copy\n",
            "  df_sin_atipicos['Target'] = np.where(df_sin_atipicos['promedio_ifpc'] > df_sin_atipicos['Valor_Medio_Promedio_IFPC'], 1, 0)\n"
          ]
        },
        {
          "output_type": "stream",
          "name": "stdout",
          "text": [
            "              Variable  Coeficiente\n",
            "8  cant_miembros_hogar    -0.312840\n",
            "4      nivel_educativo     0.247158\n",
            "3        analfabetismo    -0.123541\n",
            "1                 edad     0.113671\n",
            "2           AGLOMERADO     0.099253\n",
            "7     villa_emergencia     0.060497\n",
            "5        tipo_vivienda    -0.052682\n",
            "0                 sexo    -0.041547\n",
            "6       zona_inundable     0.026442\n"
          ]
        }
      ]
    }
  ]
}